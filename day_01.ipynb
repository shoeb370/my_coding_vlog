{
 "cells": [
  {
   "cell_type": "code",
   "execution_count": 72,
   "id": "f47287c8",
   "metadata": {},
   "outputs": [],
   "source": [
    "# Chapter 1 basics"
   ]
  },
  {
   "cell_type": "code",
   "execution_count": 1,
   "id": "9ed139d9",
   "metadata": {},
   "outputs": [
    {
     "data": {
      "text/plain": [
       "4"
      ]
     },
     "execution_count": 1,
     "metadata": {},
     "output_type": "execute_result"
    }
   ],
   "source": [
    "2+2"
   ]
  },
  {
   "cell_type": "code",
   "execution_count": 4,
   "id": "47172cbd",
   "metadata": {},
   "outputs": [],
   "source": [
    "# operrators\n",
    "# Exponent **\n",
    "# Modulus/ remainder %\n",
    "# Integer division/ floor division //\n",
    "# Multiplications *\n",
    "# Subtraction -\n",
    "# Addition"
   ]
  },
  {
   "cell_type": "code",
   "execution_count": 5,
   "id": "ed3c17b8",
   "metadata": {},
   "outputs": [],
   "source": [
    "# hastag symbol are comment and they are ignorable\n",
    "#They good for coder to express the work done"
   ]
  },
  {
   "cell_type": "code",
   "execution_count": 6,
   "id": "6bebf514",
   "metadata": {},
   "outputs": [
    {
     "data": {
      "text/plain": [
       "20"
      ]
     },
     "execution_count": 6,
     "metadata": {},
     "output_type": "execute_result"
    }
   ],
   "source": [
    "2 + 3 * 6 # 18 + 2 # bodmas concept"
   ]
  },
  {
   "cell_type": "code",
   "execution_count": 7,
   "id": "87e1fa59",
   "metadata": {},
   "outputs": [
    {
     "data": {
      "text/plain": [
       "30"
      ]
     },
     "execution_count": 7,
     "metadata": {},
     "output_type": "execute_result"
    }
   ],
   "source": [
    "(2+3)* 6"
   ]
  },
  {
   "cell_type": "code",
   "execution_count": 8,
   "id": "931a69c5",
   "metadata": {},
   "outputs": [
    {
     "data": {
      "text/plain": [
       "256"
      ]
     },
     "execution_count": 8,
     "metadata": {},
     "output_type": "execute_result"
    }
   ],
   "source": [
    "2**8"
   ]
  },
  {
   "cell_type": "code",
   "execution_count": 9,
   "id": "e19e37e0",
   "metadata": {},
   "outputs": [
    {
     "data": {
      "text/plain": [
       "3"
      ]
     },
     "execution_count": 9,
     "metadata": {},
     "output_type": "execute_result"
    }
   ],
   "source": [
    "22//7 #pi"
   ]
  },
  {
   "cell_type": "code",
   "execution_count": 10,
   "id": "a4615bd7",
   "metadata": {},
   "outputs": [
    {
     "data": {
      "text/plain": [
       "3.142857142857143"
      ]
     },
     "execution_count": 10,
     "metadata": {},
     "output_type": "execute_result"
    }
   ],
   "source": [
    "22/7 # pi value"
   ]
  },
  {
   "cell_type": "code",
   "execution_count": 11,
   "id": "1dae3dd1",
   "metadata": {},
   "outputs": [
    {
     "data": {
      "text/plain": [
       "4"
      ]
     },
     "execution_count": 11,
     "metadata": {},
     "output_type": "execute_result"
    }
   ],
   "source": [
    "2 +         2"
   ]
  },
  {
   "cell_type": "code",
   "execution_count": 12,
   "id": "1bf4b183",
   "metadata": {},
   "outputs": [],
   "source": [
    "#blankspace or whitespace are ignorable"
   ]
  },
  {
   "cell_type": "code",
   "execution_count": 14,
   "id": "e6e00244",
   "metadata": {},
   "outputs": [
    {
     "data": {
      "text/plain": [
       "16.0"
      ]
     },
     "execution_count": 14,
     "metadata": {},
     "output_type": "execute_result"
    }
   ],
   "source": [
    "(5-1) *((7+1)/(3-1))"
   ]
  },
  {
   "cell_type": "code",
   "execution_count": 15,
   "id": "7cc1d9d6",
   "metadata": {},
   "outputs": [
    {
     "ename": "SyntaxError",
     "evalue": "invalid syntax (1731150352.py, line 1)",
     "output_type": "error",
     "traceback": [
      "\u001b[1;36m  Input \u001b[1;32mIn [15]\u001b[1;36m\u001b[0m\n\u001b[1;33m    5 +\u001b[0m\n\u001b[1;37m        ^\u001b[0m\n\u001b[1;31mSyntaxError\u001b[0m\u001b[1;31m:\u001b[0m invalid syntax\n"
     ]
    }
   ],
   "source": [
    "5 + "
   ]
  },
  {
   "cell_type": "code",
   "execution_count": 16,
   "id": "f77289d4",
   "metadata": {},
   "outputs": [
    {
     "data": {
      "text/plain": [
       "52"
      ]
     },
     "execution_count": 16,
     "metadata": {},
     "output_type": "execute_result"
    }
   ],
   "source": [
    "42 + 5 * 2"
   ]
  },
  {
   "cell_type": "code",
   "execution_count": 21,
   "id": "ed235135",
   "metadata": {},
   "outputs": [],
   "source": [
    "# Data types\n",
    "#Integer\n",
    "# Floating point number\n",
    "# String"
   ]
  },
  {
   "cell_type": "code",
   "execution_count": 22,
   "id": "43944925",
   "metadata": {},
   "outputs": [
    {
     "data": {
      "text/plain": [
       "'Hello world!'"
      ]
     },
     "execution_count": 22,
     "metadata": {},
     "output_type": "execute_result"
    }
   ],
   "source": [
    "#string\n",
    "\"Hello world!\""
   ]
  },
  {
   "cell_type": "code",
   "execution_count": 23,
   "id": "0687b6ad",
   "metadata": {},
   "outputs": [
    {
     "data": {
      "text/plain": [
       "'AliceBob'"
      ]
     },
     "execution_count": 23,
     "metadata": {},
     "output_type": "execute_result"
    }
   ],
   "source": [
    "# Concatenations\n",
    "\"Alice\" + \"Bob\""
   ]
  },
  {
   "cell_type": "code",
   "execution_count": 24,
   "id": "112736a2",
   "metadata": {},
   "outputs": [
    {
     "ename": "TypeError",
     "evalue": "can only concatenate str (not \"int\") to str",
     "output_type": "error",
     "traceback": [
      "\u001b[1;31m---------------------------------------------------------------------------\u001b[0m",
      "\u001b[1;31mTypeError\u001b[0m                                 Traceback (most recent call last)",
      "Input \u001b[1;32mIn [24]\u001b[0m, in \u001b[0;36m<cell line: 1>\u001b[1;34m()\u001b[0m\n\u001b[1;32m----> 1\u001b[0m \u001b[38;5;124;43m\"\u001b[39;49m\u001b[38;5;124;43mAlice\u001b[39;49m\u001b[38;5;124;43m\"\u001b[39;49m\u001b[43m \u001b[49m\u001b[38;5;241;43m+\u001b[39;49m\u001b[43m \u001b[49m\u001b[38;5;241;43m42\u001b[39;49m\n",
      "\u001b[1;31mTypeError\u001b[0m: can only concatenate str (not \"int\") to str"
     ]
    }
   ],
   "source": [
    "\"Alice\" + 42"
   ]
  },
  {
   "cell_type": "code",
   "execution_count": 25,
   "id": "4bbe6829",
   "metadata": {},
   "outputs": [
    {
     "data": {
      "text/plain": [
       "'Alice42'"
      ]
     },
     "execution_count": 25,
     "metadata": {},
     "output_type": "execute_result"
    }
   ],
   "source": [
    "\"Alice\" + \"42\""
   ]
  },
  {
   "cell_type": "code",
   "execution_count": 26,
   "id": "05d9ace7",
   "metadata": {},
   "outputs": [
    {
     "data": {
      "text/plain": [
       "'AliceAliceAliceAliceAlice'"
      ]
     },
     "execution_count": 26,
     "metadata": {},
     "output_type": "execute_result"
    }
   ],
   "source": [
    "#Repetitive\n",
    "\"Alice\" * 5"
   ]
  },
  {
   "cell_type": "code",
   "execution_count": 27,
   "id": "0391199b",
   "metadata": {},
   "outputs": [
    {
     "ename": "TypeError",
     "evalue": "can't multiply sequence by non-int of type 'str'",
     "output_type": "error",
     "traceback": [
      "\u001b[1;31m---------------------------------------------------------------------------\u001b[0m",
      "\u001b[1;31mTypeError\u001b[0m                                 Traceback (most recent call last)",
      "Input \u001b[1;32mIn [27]\u001b[0m, in \u001b[0;36m<cell line: 1>\u001b[1;34m()\u001b[0m\n\u001b[1;32m----> 1\u001b[0m \u001b[38;5;124;43m\"\u001b[39;49m\u001b[38;5;124;43mAlice\u001b[39;49m\u001b[38;5;124;43m\"\u001b[39;49m\u001b[38;5;241;43m*\u001b[39;49m\u001b[38;5;124;43m\"\u001b[39;49m\u001b[38;5;124;43mbob\u001b[39;49m\u001b[38;5;124;43m\"\u001b[39;49m\n",
      "\u001b[1;31mTypeError\u001b[0m: can't multiply sequence by non-int of type 'str'"
     ]
    }
   ],
   "source": [
    "\"Alice\"*\"bob\""
   ]
  },
  {
   "cell_type": "code",
   "execution_count": 28,
   "id": "93909690",
   "metadata": {},
   "outputs": [],
   "source": [
    "# Variable are use to store the value and\n",
    "# They are also called as storage container"
   ]
  },
  {
   "cell_type": "code",
   "execution_count": 29,
   "id": "eb196ecf",
   "metadata": {},
   "outputs": [],
   "source": [
    "span = 40"
   ]
  },
  {
   "cell_type": "code",
   "execution_count": 31,
   "id": "da9a26ae",
   "metadata": {},
   "outputs": [
    {
     "data": {
      "text/plain": [
       "40"
      ]
     },
     "execution_count": 31,
     "metadata": {},
     "output_type": "execute_result"
    }
   ],
   "source": [
    "span"
   ]
  },
  {
   "cell_type": "code",
   "execution_count": 32,
   "id": "a2ec8eee",
   "metadata": {},
   "outputs": [],
   "source": [
    "# case sensitive in terms of variable"
   ]
  },
  {
   "cell_type": "code",
   "execution_count": 33,
   "id": "b6ed739b",
   "metadata": {},
   "outputs": [],
   "source": [
    "eggs = 2"
   ]
  },
  {
   "cell_type": "code",
   "execution_count": 34,
   "id": "bb55a1c3",
   "metadata": {},
   "outputs": [
    {
     "data": {
      "text/plain": [
       "2"
      ]
     },
     "execution_count": 34,
     "metadata": {},
     "output_type": "execute_result"
    }
   ],
   "source": [
    "eggs"
   ]
  },
  {
   "cell_type": "code",
   "execution_count": 35,
   "id": "09473ada",
   "metadata": {},
   "outputs": [
    {
     "data": {
      "text/plain": [
       "42"
      ]
     },
     "execution_count": 35,
     "metadata": {},
     "output_type": "execute_result"
    }
   ],
   "source": [
    "span  + eggs"
   ]
  },
  {
   "cell_type": "code",
   "execution_count": 36,
   "id": "f53bb77b",
   "metadata": {},
   "outputs": [
    {
     "data": {
      "text/plain": [
       "42"
      ]
     },
     "execution_count": 36,
     "metadata": {},
     "output_type": "execute_result"
    }
   ],
   "source": [
    "40 + 2"
   ]
  },
  {
   "cell_type": "code",
   "execution_count": 37,
   "id": "4fa9ec33",
   "metadata": {},
   "outputs": [],
   "source": [
    "span = \"Hello\""
   ]
  },
  {
   "cell_type": "code",
   "execution_count": 38,
   "id": "182f2c6c",
   "metadata": {},
   "outputs": [
    {
     "data": {
      "text/plain": [
       "'Hello'"
      ]
     },
     "execution_count": 38,
     "metadata": {},
     "output_type": "execute_result"
    }
   ],
   "source": [
    "span"
   ]
  },
  {
   "cell_type": "code",
   "execution_count": 39,
   "id": "a28b8033",
   "metadata": {},
   "outputs": [],
   "source": [
    "# span we have 40 -> how hello comes"
   ]
  },
  {
   "cell_type": "code",
   "execution_count": 40,
   "id": "dc66b886",
   "metadata": {},
   "outputs": [],
   "source": [
    "# span is overwritten by hello"
   ]
  },
  {
   "cell_type": "code",
   "execution_count": 41,
   "id": "6b7b4938",
   "metadata": {},
   "outputs": [],
   "source": [
    "span = \"Goodbye\""
   ]
  },
  {
   "cell_type": "code",
   "execution_count": 42,
   "id": "9660c2ae",
   "metadata": {},
   "outputs": [],
   "source": [
    "# Balance Variable name"
   ]
  },
  {
   "cell_type": "code",
   "execution_count": 43,
   "id": "60787e2f",
   "metadata": {},
   "outputs": [],
   "source": [
    "balance = 40 #check"
   ]
  },
  {
   "cell_type": "code",
   "execution_count": 44,
   "id": "67e74c77",
   "metadata": {},
   "outputs": [],
   "source": [
    "currentBalance = 40 #check"
   ]
  },
  {
   "cell_type": "code",
   "execution_count": 45,
   "id": "57fdcdd1",
   "metadata": {},
   "outputs": [],
   "source": [
    "current_balance = 40"
   ]
  },
  {
   "cell_type": "code",
   "execution_count": 46,
   "id": "cd5df798",
   "metadata": {},
   "outputs": [],
   "source": [
    "_spam = \"spam mails\""
   ]
  },
  {
   "cell_type": "code",
   "execution_count": 47,
   "id": "fe5c0d18",
   "metadata": {},
   "outputs": [],
   "source": [
    "SPAM = \"Another spam mails\""
   ]
  },
  {
   "cell_type": "code",
   "execution_count": 48,
   "id": "c387c6f0",
   "metadata": {},
   "outputs": [],
   "source": [
    "account4 = \"200$\""
   ]
  },
  {
   "cell_type": "code",
   "execution_count": 49,
   "id": "34ecec54",
   "metadata": {},
   "outputs": [],
   "source": [
    "# Above all the mentioned variable name are the perfect variable declarations"
   ]
  },
  {
   "cell_type": "code",
   "execution_count": 50,
   "id": "a04ecaac",
   "metadata": {},
   "outputs": [],
   "source": [
    "#Now we are going for input i.e user input"
   ]
  },
  {
   "cell_type": "code",
   "execution_count": 56,
   "id": "4ac00c88",
   "metadata": {},
   "outputs": [
    {
     "name": "stdout",
     "output_type": "stream",
     "text": [
      "Hello world\n",
      "Enter your name\n",
      "shoeb\n",
      "It is good to meet you,shoeb\n",
      "The length of your name is:\n",
      "5\n",
      "what is your age?\n",
      "44\n",
      "You will be 45 in a year\n"
     ]
    }
   ],
   "source": [
    "print('Hello world')\n",
    "print(\"Enter your name\")\n",
    "myName = input()\n",
    "print(\"It is good to meet you,\" + myName)\n",
    "print(\"The length of your name is:\")\n",
    "print(len(myName))\n",
    "print(\"what is your age?\") #ask for your age\n",
    "myAge = input()\n",
    "print(\"You will be \"+str(int(myAge)+1)+' in a year')"
   ]
  },
  {
   "cell_type": "code",
   "execution_count": 57,
   "id": "ae9e0dc2",
   "metadata": {},
   "outputs": [
    {
     "data": {
      "text/plain": [
       "'0'"
      ]
     },
     "execution_count": 57,
     "metadata": {},
     "output_type": "execute_result"
    }
   ],
   "source": [
    "str(0)"
   ]
  },
  {
   "cell_type": "code",
   "execution_count": 58,
   "id": "823ee308",
   "metadata": {},
   "outputs": [
    {
     "data": {
      "text/plain": [
       "'-3.14'"
      ]
     },
     "execution_count": 58,
     "metadata": {},
     "output_type": "execute_result"
    }
   ],
   "source": [
    "str(-3.14)"
   ]
  },
  {
   "cell_type": "code",
   "execution_count": 59,
   "id": "c316094c",
   "metadata": {},
   "outputs": [
    {
     "data": {
      "text/plain": [
       "42"
      ]
     },
     "execution_count": 59,
     "metadata": {},
     "output_type": "execute_result"
    }
   ],
   "source": [
    "int('42')"
   ]
  },
  {
   "cell_type": "code",
   "execution_count": 61,
   "id": "00292443",
   "metadata": {},
   "outputs": [
    {
     "data": {
      "text/plain": [
       "-99"
      ]
     },
     "execution_count": 61,
     "metadata": {},
     "output_type": "execute_result"
    }
   ],
   "source": [
    "int('-99')"
   ]
  },
  {
   "cell_type": "code",
   "execution_count": 62,
   "id": "24cd7d19",
   "metadata": {},
   "outputs": [
    {
     "data": {
      "text/plain": [
       "1"
      ]
     },
     "execution_count": 62,
     "metadata": {},
     "output_type": "execute_result"
    }
   ],
   "source": [
    "int(1.25)"
   ]
  },
  {
   "cell_type": "code",
   "execution_count": 63,
   "id": "0d4161b3",
   "metadata": {},
   "outputs": [
    {
     "data": {
      "text/plain": [
       "1"
      ]
     },
     "execution_count": 63,
     "metadata": {},
     "output_type": "execute_result"
    }
   ],
   "source": [
    "int(1.99)"
   ]
  },
  {
   "cell_type": "code",
   "execution_count": 64,
   "id": "17e51020",
   "metadata": {},
   "outputs": [
    {
     "data": {
      "text/plain": [
       "3.14"
      ]
     },
     "execution_count": 64,
     "metadata": {},
     "output_type": "execute_result"
    }
   ],
   "source": [
    "float('3.14')"
   ]
  },
  {
   "cell_type": "code",
   "execution_count": 65,
   "id": "408f138c",
   "metadata": {},
   "outputs": [
    {
     "data": {
      "text/plain": [
       "10.0"
      ]
     },
     "execution_count": 65,
     "metadata": {},
     "output_type": "execute_result"
    }
   ],
   "source": [
    "float(10)"
   ]
  },
  {
   "cell_type": "code",
   "execution_count": 66,
   "id": "e56526ea",
   "metadata": {},
   "outputs": [
    {
     "name": "stdout",
     "output_type": "stream",
     "text": [
      "101\n"
     ]
    }
   ],
   "source": [
    "spam = input()"
   ]
  },
  {
   "cell_type": "code",
   "execution_count": 68,
   "id": "8926bb9e",
   "metadata": {},
   "outputs": [
    {
     "name": "stdout",
     "output_type": "stream",
     "text": [
      "<class 'str'>\n"
     ]
    }
   ],
   "source": [
    "print(type(spam))"
   ]
  },
  {
   "cell_type": "code",
   "execution_count": 69,
   "id": "f78e30e4",
   "metadata": {},
   "outputs": [
    {
     "data": {
      "text/plain": [
       "(101, int)"
      ]
     },
     "execution_count": 69,
     "metadata": {},
     "output_type": "execute_result"
    }
   ],
   "source": [
    "spam = int(spam)\n",
    "spam, type(spam)"
   ]
  },
  {
   "cell_type": "code",
   "execution_count": 70,
   "id": "02697e11",
   "metadata": {},
   "outputs": [
    {
     "data": {
      "text/plain": [
       "202.0"
      ]
     },
     "execution_count": 70,
     "metadata": {},
     "output_type": "execute_result"
    }
   ],
   "source": [
    "spam * 10/5"
   ]
  },
  {
   "cell_type": "code",
   "execution_count": 71,
   "id": "0e271691",
   "metadata": {},
   "outputs": [
    {
     "data": {
      "text/plain": [
       "float"
      ]
     },
     "execution_count": 71,
     "metadata": {},
     "output_type": "execute_result"
    }
   ],
   "source": [
    "type(spam * 10/5)"
   ]
  },
  {
   "cell_type": "code",
   "execution_count": 73,
   "id": "872bead1",
   "metadata": {},
   "outputs": [],
   "source": [
    "# chapter 2 I am skipping the reading parts"
   ]
  },
  {
   "cell_type": "code",
   "execution_count": 74,
   "id": "1b8824de",
   "metadata": {},
   "outputs": [],
   "source": [
    "spam = True"
   ]
  },
  {
   "cell_type": "code",
   "execution_count": 75,
   "id": "b32bc6b0",
   "metadata": {},
   "outputs": [
    {
     "data": {
      "text/plain": [
       "True"
      ]
     },
     "execution_count": 75,
     "metadata": {},
     "output_type": "execute_result"
    }
   ],
   "source": [
    "spam"
   ]
  },
  {
   "cell_type": "code",
   "execution_count": 76,
   "id": "25faf124",
   "metadata": {},
   "outputs": [
    {
     "ename": "NameError",
     "evalue": "name 'true' is not defined",
     "output_type": "error",
     "traceback": [
      "\u001b[1;31m---------------------------------------------------------------------------\u001b[0m",
      "\u001b[1;31mNameError\u001b[0m                                 Traceback (most recent call last)",
      "Input \u001b[1;32mIn [76]\u001b[0m, in \u001b[0;36m<cell line: 1>\u001b[1;34m()\u001b[0m\n\u001b[1;32m----> 1\u001b[0m \u001b[43mtrue\u001b[49m\n",
      "\u001b[1;31mNameError\u001b[0m: name 'true' is not defined"
     ]
    }
   ],
   "source": [
    "true"
   ]
  },
  {
   "cell_type": "code",
   "execution_count": 77,
   "id": "015c32df",
   "metadata": {},
   "outputs": [
    {
     "ename": "NameError",
     "evalue": "name 'true' is not defined",
     "output_type": "error",
     "traceback": [
      "\u001b[1;31m---------------------------------------------------------------------------\u001b[0m",
      "\u001b[1;31mNameError\u001b[0m                                 Traceback (most recent call last)",
      "Input \u001b[1;32mIn [77]\u001b[0m, in \u001b[0;36m<cell line: 1>\u001b[1;34m()\u001b[0m\n\u001b[1;32m----> 1\u001b[0m spam \u001b[38;5;241m=\u001b[39m \u001b[43mtrue\u001b[49m\n",
      "\u001b[1;31mNameError\u001b[0m: name 'true' is not defined"
     ]
    }
   ],
   "source": [
    "spam = true"
   ]
  },
  {
   "cell_type": "code",
   "execution_count": 78,
   "id": "8c335a99",
   "metadata": {},
   "outputs": [],
   "source": [
    "spam = True"
   ]
  },
  {
   "cell_type": "code",
   "execution_count": 79,
   "id": "2c058841",
   "metadata": {},
   "outputs": [],
   "source": [
    "# True is boolean and true is varible"
   ]
  },
  {
   "cell_type": "code",
   "execution_count": 80,
   "id": "145cb6df",
   "metadata": {},
   "outputs": [],
   "source": [
    "# Comparision operator\n",
    "#  Equal too ==\n",
    "#  Not Equal too !=\n",
    "# Less than <\n",
    "# Greater than > \n",
    "# Less than or equal too <=\n",
    "# Greater than or equal to >="
   ]
  },
  {
   "cell_type": "code",
   "execution_count": 82,
   "id": "2ef9be37",
   "metadata": {},
   "outputs": [
    {
     "data": {
      "text/plain": [
       "True"
      ]
     },
     "execution_count": 82,
     "metadata": {},
     "output_type": "execute_result"
    }
   ],
   "source": [
    "42 == 42 # same number"
   ]
  },
  {
   "cell_type": "code",
   "execution_count": 83,
   "id": "76e9ad98",
   "metadata": {},
   "outputs": [
    {
     "data": {
      "text/plain": [
       "False"
      ]
     },
     "execution_count": 83,
     "metadata": {},
     "output_type": "execute_result"
    }
   ],
   "source": [
    "42 == 99"
   ]
  },
  {
   "cell_type": "code",
   "execution_count": 84,
   "id": "c9acdcc8",
   "metadata": {},
   "outputs": [
    {
     "data": {
      "text/plain": [
       "True"
      ]
     },
     "execution_count": 84,
     "metadata": {},
     "output_type": "execute_result"
    }
   ],
   "source": [
    "2 != 3"
   ]
  },
  {
   "cell_type": "code",
   "execution_count": 85,
   "id": "07cde201",
   "metadata": {},
   "outputs": [
    {
     "data": {
      "text/plain": [
       "False"
      ]
     },
     "execution_count": 85,
     "metadata": {},
     "output_type": "execute_result"
    }
   ],
   "source": [
    "2 != 2"
   ]
  },
  {
   "cell_type": "code",
   "execution_count": 87,
   "id": "36ee60c9",
   "metadata": {},
   "outputs": [
    {
     "data": {
      "text/plain": [
       "True"
      ]
     },
     "execution_count": 87,
     "metadata": {},
     "output_type": "execute_result"
    }
   ],
   "source": [
    "\"hello\" == \"hello\""
   ]
  },
  {
   "cell_type": "code",
   "execution_count": 89,
   "id": "91fabf0e",
   "metadata": {},
   "outputs": [
    {
     "data": {
      "text/plain": [
       "False"
      ]
     },
     "execution_count": 89,
     "metadata": {},
     "output_type": "execute_result"
    }
   ],
   "source": [
    "\"hello\" == \"Hello\" #python string are also case sensitive"
   ]
  },
  {
   "cell_type": "code",
   "execution_count": 90,
   "id": "4a7c3624",
   "metadata": {},
   "outputs": [
    {
     "data": {
      "text/plain": [
       "True"
      ]
     },
     "execution_count": 90,
     "metadata": {},
     "output_type": "execute_result"
    }
   ],
   "source": [
    "True == True"
   ]
  },
  {
   "cell_type": "code",
   "execution_count": 91,
   "id": "03692a97",
   "metadata": {},
   "outputs": [
    {
     "data": {
      "text/plain": [
       "True"
      ]
     },
     "execution_count": 91,
     "metadata": {},
     "output_type": "execute_result"
    }
   ],
   "source": [
    "True != False"
   ]
  },
  {
   "cell_type": "code",
   "execution_count": 93,
   "id": "d4fe6021",
   "metadata": {},
   "outputs": [
    {
     "data": {
      "text/plain": [
       "False"
      ]
     },
     "execution_count": 93,
     "metadata": {},
     "output_type": "execute_result"
    }
   ],
   "source": [
    "True == False"
   ]
  },
  {
   "cell_type": "code",
   "execution_count": 95,
   "id": "b92543ef",
   "metadata": {},
   "outputs": [
    {
     "data": {
      "text/plain": [
       "True"
      ]
     },
     "execution_count": 95,
     "metadata": {},
     "output_type": "execute_result"
    }
   ],
   "source": [
    "42 == 42.0"
   ]
  },
  {
   "cell_type": "code",
   "execution_count": 96,
   "id": "c7afe0e6",
   "metadata": {},
   "outputs": [
    {
     "data": {
      "text/plain": [
       "False"
      ]
     },
     "execution_count": 96,
     "metadata": {},
     "output_type": "execute_result"
    }
   ],
   "source": [
    "42 == '42'"
   ]
  },
  {
   "cell_type": "code",
   "execution_count": 97,
   "id": "69362baa",
   "metadata": {},
   "outputs": [
    {
     "data": {
      "text/plain": [
       "True"
      ]
     },
     "execution_count": 97,
     "metadata": {},
     "output_type": "execute_result"
    }
   ],
   "source": [
    "42 < 100"
   ]
  },
  {
   "cell_type": "code",
   "execution_count": 98,
   "id": "441c0485",
   "metadata": {},
   "outputs": [
    {
     "data": {
      "text/plain": [
       "False"
      ]
     },
     "execution_count": 98,
     "metadata": {},
     "output_type": "execute_result"
    }
   ],
   "source": [
    "42 > 100"
   ]
  },
  {
   "cell_type": "code",
   "execution_count": 99,
   "id": "e5d17463",
   "metadata": {},
   "outputs": [
    {
     "data": {
      "text/plain": [
       "False"
      ]
     },
     "execution_count": 99,
     "metadata": {},
     "output_type": "execute_result"
    }
   ],
   "source": [
    "42 <42"
   ]
  },
  {
   "cell_type": "code",
   "execution_count": 100,
   "id": "b2e62fa7",
   "metadata": {},
   "outputs": [],
   "source": [
    "eggCount = 42"
   ]
  },
  {
   "cell_type": "code",
   "execution_count": 101,
   "id": "c880283d",
   "metadata": {},
   "outputs": [
    {
     "data": {
      "text/plain": [
       "True"
      ]
     },
     "execution_count": 101,
     "metadata": {},
     "output_type": "execute_result"
    }
   ],
   "source": [
    "eggCount <= 42"
   ]
  },
  {
   "cell_type": "code",
   "execution_count": 102,
   "id": "0d57d372",
   "metadata": {},
   "outputs": [
    {
     "data": {
      "text/plain": [
       "True"
      ]
     },
     "execution_count": 102,
     "metadata": {},
     "output_type": "execute_result"
    }
   ],
   "source": [
    "42 <= 42"
   ]
  },
  {
   "cell_type": "code",
   "execution_count": 103,
   "id": "4af5b983",
   "metadata": {},
   "outputs": [
    {
     "data": {
      "text/plain": [
       "True"
      ]
     },
     "execution_count": 103,
     "metadata": {},
     "output_type": "execute_result"
    }
   ],
   "source": [
    "myAge = 24\n",
    "myAge >=10"
   ]
  },
  {
   "cell_type": "code",
   "execution_count": 104,
   "id": "d6d7b725",
   "metadata": {},
   "outputs": [
    {
     "data": {
      "text/plain": [
       "True"
      ]
     },
     "execution_count": 104,
     "metadata": {},
     "output_type": "execute_result"
    }
   ],
   "source": [
    "24 >= 10"
   ]
  },
  {
   "cell_type": "code",
   "execution_count": 105,
   "id": "4f9a7a90",
   "metadata": {},
   "outputs": [
    {
     "data": {
      "text/plain": [
       "True"
      ]
     },
     "execution_count": 105,
     "metadata": {},
     "output_type": "execute_result"
    }
   ],
   "source": [
    "# Boolean operator\n",
    "True and True"
   ]
  },
  {
   "cell_type": "code",
   "execution_count": 106,
   "id": "e5a3bac1",
   "metadata": {},
   "outputs": [
    {
     "data": {
      "text/plain": [
       "False"
      ]
     },
     "execution_count": 106,
     "metadata": {},
     "output_type": "execute_result"
    }
   ],
   "source": [
    "True and False"
   ]
  },
  {
   "cell_type": "code",
   "execution_count": 107,
   "id": "d4fd0909",
   "metadata": {},
   "outputs": [
    {
     "data": {
      "text/plain": [
       "False"
      ]
     },
     "execution_count": 107,
     "metadata": {},
     "output_type": "execute_result"
    }
   ],
   "source": [
    "False or False"
   ]
  },
  {
   "cell_type": "code",
   "execution_count": 108,
   "id": "ffa0e874",
   "metadata": {},
   "outputs": [
    {
     "data": {
      "text/plain": [
       "True"
      ]
     },
     "execution_count": 108,
     "metadata": {},
     "output_type": "execute_result"
    }
   ],
   "source": [
    "False or True"
   ]
  },
  {
   "cell_type": "code",
   "execution_count": 109,
   "id": "db89294d",
   "metadata": {},
   "outputs": [
    {
     "data": {
      "text/plain": [
       "True"
      ]
     },
     "execution_count": 109,
     "metadata": {},
     "output_type": "execute_result"
    }
   ],
   "source": [
    "True or True"
   ]
  },
  {
   "cell_type": "code",
   "execution_count": 110,
   "id": "e7073ab5",
   "metadata": {},
   "outputs": [
    {
     "data": {
      "text/plain": [
       "True"
      ]
     },
     "execution_count": 110,
     "metadata": {},
     "output_type": "execute_result"
    }
   ],
   "source": [
    "True or False"
   ]
  },
  {
   "cell_type": "code",
   "execution_count": 111,
   "id": "8288523c",
   "metadata": {},
   "outputs": [
    {
     "data": {
      "text/plain": [
       "True"
      ]
     },
     "execution_count": 111,
     "metadata": {},
     "output_type": "execute_result"
    }
   ],
   "source": [
    "False or True"
   ]
  },
  {
   "cell_type": "code",
   "execution_count": 112,
   "id": "6125278e",
   "metadata": {},
   "outputs": [
    {
     "data": {
      "text/plain": [
       "False"
      ]
     },
     "execution_count": 112,
     "metadata": {},
     "output_type": "execute_result"
    }
   ],
   "source": [
    "False or False"
   ]
  },
  {
   "cell_type": "code",
   "execution_count": 113,
   "id": "9f512531",
   "metadata": {},
   "outputs": [
    {
     "data": {
      "text/plain": [
       "False"
      ]
     },
     "execution_count": 113,
     "metadata": {},
     "output_type": "execute_result"
    }
   ],
   "source": [
    "not True"
   ]
  },
  {
   "cell_type": "code",
   "execution_count": 114,
   "id": "f9986cc3",
   "metadata": {},
   "outputs": [
    {
     "data": {
      "text/plain": [
       "True"
      ]
     },
     "execution_count": 114,
     "metadata": {},
     "output_type": "execute_result"
    }
   ],
   "source": [
    "not not True"
   ]
  },
  {
   "cell_type": "code",
   "execution_count": 115,
   "id": "07dd3f89",
   "metadata": {},
   "outputs": [
    {
     "data": {
      "text/plain": [
       "False"
      ]
     },
     "execution_count": 115,
     "metadata": {},
     "output_type": "execute_result"
    }
   ],
   "source": [
    "not not not True"
   ]
  },
  {
   "cell_type": "code",
   "execution_count": 116,
   "id": "faa2c416",
   "metadata": {},
   "outputs": [
    {
     "data": {
      "text/plain": [
       "True"
      ]
     },
     "execution_count": 116,
     "metadata": {},
     "output_type": "execute_result"
    }
   ],
   "source": [
    "not not not not True"
   ]
  },
  {
   "cell_type": "code",
   "execution_count": 117,
   "id": "12c9025e",
   "metadata": {},
   "outputs": [],
   "source": [
    "# Mixing Boolean and Comparision"
   ]
  },
  {
   "cell_type": "code",
   "execution_count": 121,
   "id": "fec55efd",
   "metadata": {},
   "outputs": [
    {
     "data": {
      "text/plain": [
       "True"
      ]
     },
     "execution_count": 121,
     "metadata": {},
     "output_type": "execute_result"
    }
   ],
   "source": [
    "(4<5) and (5<6)\n",
    "# True and True"
   ]
  },
  {
   "cell_type": "code",
   "execution_count": 122,
   "id": "5c0e8532",
   "metadata": {},
   "outputs": [
    {
     "data": {
      "text/plain": [
       "False"
      ]
     },
     "execution_count": 122,
     "metadata": {},
     "output_type": "execute_result"
    }
   ],
   "source": [
    "(4<5) and (9<6)"
   ]
  },
  {
   "cell_type": "code",
   "execution_count": 123,
   "id": "4e7d55ac",
   "metadata": {},
   "outputs": [
    {
     "data": {
      "text/plain": [
       "True"
      ]
     },
     "execution_count": 123,
     "metadata": {},
     "output_type": "execute_result"
    }
   ],
   "source": [
    "(1 == 2) or (2==2)"
   ]
  },
  {
   "cell_type": "code",
   "execution_count": 124,
   "id": "6b869d6d",
   "metadata": {},
   "outputs": [],
   "source": [
    "# Block of code, here indentations comes here"
   ]
  },
  {
   "cell_type": "code",
   "execution_count": null,
   "id": "217acec9",
   "metadata": {},
   "outputs": [],
   "source": [
    "#we will see next time (63/505)"
   ]
  }
 ],
 "metadata": {
  "kernelspec": {
   "display_name": "Python 3 (ipykernel)",
   "language": "python",
   "name": "python3"
  },
  "language_info": {
   "codemirror_mode": {
    "name": "ipython",
    "version": 3
   },
   "file_extension": ".py",
   "mimetype": "text/x-python",
   "name": "python",
   "nbconvert_exporter": "python",
   "pygments_lexer": "ipython3",
   "version": "3.10.4"
  }
 },
 "nbformat": 4,
 "nbformat_minor": 5
}
